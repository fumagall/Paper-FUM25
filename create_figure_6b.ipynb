{
 "cells": [
  {
   "cell_type": "code",
   "execution_count": null,
   "metadata": {},
   "outputs": [],
   "source": [
    "dt_02 = True\n",
    "i_model = 4\n",
    "from scipy.stats import chi2\n",
    "import numpy as np\n",
    "import matplotlib.pyplot as plt\n",
    "\n",
    "qunatiles_ground_data = np.load(f\"results/reference_values_ranges{\"_02\" if dt_02 else \"\"}.npy\")\n",
    "qunatiles_ground_data = qunatiles_ground_data[:, i_model] #select model\n",
    "qunatiles_ground_data[:, 0] = 1 - qunatiles_ground_data[:, 0] # transform attractor inclusion to attractor exclusion\n",
    "quantiles = np.quantile(qunatiles_ground_data, 0.95 , axis=0)\n",
    "quantiles[-1] = chi2.isf(0.05, df=10) # there is a theoretical value for the threshold in the case of Heikki"
   ]
  },
  {
   "cell_type": "code",
   "execution_count": null,
   "metadata": {},
   "outputs": [],
   "source": [
    "quantiles"
   ]
  },
  {
   "cell_type": "code",
   "execution_count": null,
   "metadata": {},
   "outputs": [],
   "source": [
    "import numpy as np\n",
    "import matplotlib.pyplot as plt\n",
    "\n",
    "data = np.load(\"results/create_figure_y.npz\")\n",
    "measures = data[\"measures\"]\n",
    "predictions = data[\"predictions_closed_loop\"]\n",
    "reference = data[\"data_closed_loop\"]"
   ]
  },
  {
   "cell_type": "code",
   "execution_count": null,
   "metadata": {},
   "outputs": [],
   "source": [
    "measures.shape, predictions.shape, reference.shape"
   ]
  },
  {
   "cell_type": "code",
   "execution_count": null,
   "metadata": {},
   "outputs": [],
   "source": [
    "np.sum((measures[:, 5:] < quantiles[1:]).all(axis=-1))"
   ]
  },
  {
   "cell_type": "code",
   "execution_count": null,
   "metadata": {},
   "outputs": [],
   "source": [
    "indicies = np.where((measures[:, 5:] < quantiles[1:]).all(axis=-1))[0]\n",
    "measures, predictions, reference = measures[indicies], predictions[indicies], reference[indicies]"
   ]
  },
  {
   "cell_type": "code",
   "execution_count": null,
   "metadata": {},
   "outputs": [],
   "source": [
    "from mpl_toolkits.mplot3d import proj3d\n",
    "\n",
    "ax = plt.subplot(111, projection=\"3d\")\n",
    "proj = lambda x, ax=ax: proj3d.proj_transform(*x.T, ax.get_proj())[:2]\n",
    "\n",
    "from matplotlib.colors import LinearSegmentedColormap\n",
    "import matplotlib.colors as mcolors\n",
    "\n",
    "################## colormap ###################\n",
    "\n",
    "cdict = {'red':   ((0.0, 0.0, 0.0),\n",
    "                   (0.5, 1.0, 1.0),\n",
    "                   (1.0, 1.0, 1.0)),\n",
    "\n",
    "         'green': ((0.0, 116./255., 116./255.),\n",
    "                   (0.5, 1., 1.),\n",
    "                   (1.0, 121./255., 121./255.)),\n",
    "\n",
    "         'blue':  ((0.0, 122./255., 122./255.),\n",
    "                   (0.5, 1., 1.0),\n",
    "                   (1.0, 0.0, 0.0))\n",
    "        }\n",
    "       \n",
    "\n",
    "TUI = LinearSegmentedColormap('TUI', cdict)\n",
    "norm = mcolors.Normalize(vmin=0, vmax=1)  "
   ]
  },
  {
   "cell_type": "code",
   "execution_count": null,
   "metadata": {},
   "outputs": [],
   "source": [
    "cm = 1/2.54\n",
    "n = 6\n",
    "fig, axs = plt.subplots(3, n, figsize=(21*cm-5*cm, 5*cm), dpi=300, height_ratios=[1, 1, 0.5])\n",
    "\n",
    "for ax_row, index in zip(axs.T, range(n)):\n",
    "    (prediction, data, measure) = predictions[index], reference[index], measures[index]\n",
    "\n",
    "    for ax in ax_row:\n",
    "        ax.tick_params(axis='x', which='both', bottom=False, top=False, labelbottom=False)\n",
    "        ax.tick_params(axis='y', which='both', left=False, right=False, labelleft=False)\n",
    "\n",
    "        # Hide the spines (borders)\n",
    "        for spine in ['top', 'bottom', 'left', 'right']:\n",
    "            ax.spines[spine].set_visible(False)\n",
    "    \n",
    "    ax_row[0].plot(*proj(data), lw=0.1, rasterized=True, color=TUI(norm(1)), alpha=0.8)\n",
    "    ax_row[0].plot(*proj(prediction), lw=0.1, rasterized=True, color=TUI(0), alpha=0.8)\n",
    "    ax_row[1].hist2d(*proj(prediction), rasterized=True, bins=64, cmap=\"Grays\")\n",
    "    ax_row[1].set_xlim(ax_row[0].get_xlim())\n",
    "    ax_row[1].set_ylim(ax_row[0].get_ylim())\n",
    "\n",
    "    ax_row[2].axis([0, 1, 0, 4])\n",
    "    for i, (value, name) in enumerate(zip(measure[4:], (\"AExc\", \"ADev\", \"TVar\", \"GCI\"))):\n",
    "        if name == \"ADev\" or name == \"GCI\":\n",
    "            text = f\"{value:.0f}\"\n",
    "        elif name == \"TVar\":\n",
    "            text = f\"{value:.3f}\"\n",
    "        else:\n",
    "            text = f\"{value:.2f}\"\n",
    "        ax_row[2].text(0.5, i, text, horizontalalignment=\"left\", fontsize=4, color='black')\n",
    "        ax_row[2].text(0.2, i, f\"{name}: \", horizontalalignment=\"left\", fontsize=4, color='black')\n",
    "    # ax = axs[1]\n",
    "    # ax.hist2d(*proj(prediction), rasterized=True, bins=64, cmap=\"Grays\")\n",
    "    # plt.show()\n",
    "plt.tight_layout()\n",
    "plt.savefig(\"pictures/illustrations/good_examples.pdf\")"
   ]
  },
  {
   "cell_type": "code",
   "execution_count": null,
   "metadata": {},
   "outputs": [],
   "source": [
    "from matplotlib import colors\n",
    "\n",
    "\n",
    "cm = 1/2.54\n",
    "n = 6\n",
    "fig, axs = plt.subplots(3, n, figsize=(21*cm-5*cm, 4.5*cm), dpi=300, height_ratios=[1, 1, 0.5])\n",
    "global norm_colorbar\n",
    "\n",
    "for ax_row, index in zip(axs.T, range(n)):\n",
    "    (prediction, data, measure) = predictions[index], reference[index], measures[index]\n",
    "\n",
    "    if index == 0:\n",
    "        # color pallet\n",
    "        cmap = plt.cm.Greys.copy()\n",
    "        cmap.set_over('#fc03f8')     # For values > vmax\n",
    "        # find common colorbar\n",
    "        max_counts, x_edges, y_edges = np.histogram2d(*proj(prediction), bins=64)\n",
    "        norm_colorbar = colors.Normalize(0, max_counts.max()*1.2, clip=False)\n",
    "        _, _, _, hist = ax.hist2d(*proj(prediction), rasterized=True, bins=[x_edges, y_edges], norm=norm_colorbar, cmap=cmap)\n",
    "        #cbar = miniplot_grid.cbar_axes[0].colorbar(hist, extend=\"max\", cmap=cmap)\n",
    "        #cbar.set_label(\"Counts\", size=12)\n",
    "\n",
    "    for ax in ax_row:\n",
    "        ax.tick_params(axis='x', which='both', bottom=False, top=False, labelbottom=False)\n",
    "        ax.tick_params(axis='y', which='both', left=False, right=False, labelleft=False)\n",
    "\n",
    "        # Hide the spines (borders)\n",
    "        for spine in ['top', 'bottom', 'left', 'right']:\n",
    "            ax.spines[spine].set_visible(False)\n",
    "    \n",
    "    ax_row[0].plot(*proj(data), lw=0.1, rasterized=True, color=TUI(norm(1)), alpha=0.8)\n",
    "    ax_row[0].plot(*proj(prediction), lw=0.1, rasterized=True, color=TUI(0), alpha=0.8)\n",
    "    ax_row[1].hist2d(*proj(prediction), rasterized=True, bins=64, cmap=cmap, norm=norm_colorbar)\n",
    "    ax_row[1].set_xlim(ax_row[0].get_xlim())\n",
    "    ax_row[1].set_ylim(ax_row[0].get_ylim())\n",
    "\n",
    "    ax_row[2].axis([0, 1, 0, 4])\n",
    "    for i, (value, name) in enumerate(zip(measure[4:], (\"AExc\", \"ADev\", \"TVar\", \"GCI\"))):\n",
    "        if name == \"ADev\" or name == \"GCI\":\n",
    "            text = f\"{value:.0f}\"\n",
    "        elif name == \"TVar\":\n",
    "            text = f\"{value:.3f}\"\n",
    "        else:\n",
    "            text = f\"{value:.2f}\"\n",
    "        ax_row[2].text(0.5, 1.3*i, text, horizontalalignment=\"left\", fontsize=5, color='black')\n",
    "        ax_row[2].text(0.2, 1.3*i, f\"{name}: \", horizontalalignment=\"left\", fontsize=5, color='black')\n",
    "    # ax = axs[1]\n",
    "    # ax.hist2d(*proj(prediction), rasterized=True, bins=64, cmap=\"Grays\")\n",
    "    # plt.show()\n",
    "plt.tight_layout()\n",
    "cbar = fig.colorbar(hist, ax=axs.ravel().tolist(), extend=\"max\", cmap=cmap)\n",
    "cbar.set_label(\"Counts\", size=5)\n",
    "cbar.set_ticklabels(cbar.get_ticks(), size=5)\n",
    "cbar.outline.set_linewidth(0.3)\n",
    "plt.savefig(\"pictures/illustrations/good_examples.pdf\", bbox_inches='tight')"
   ]
  },
  {
   "cell_type": "code",
   "execution_count": null,
   "metadata": {},
   "outputs": [],
   "source": [
    "cbar.vmin, cbar.vmax"
   ]
  }
 ],
 "metadata": {
  "kernelspec": {
   "display_name": "base",
   "language": "python",
   "name": "python3"
  },
  "language_info": {
   "codemirror_mode": {
    "name": "ipython",
    "version": 3
   },
   "file_extension": ".py",
   "mimetype": "text/x-python",
   "name": "python",
   "nbconvert_exporter": "python",
   "pygments_lexer": "ipython3",
   "version": "3.12.9"
  }
 },
 "nbformat": 4,
 "nbformat_minor": 2
}
