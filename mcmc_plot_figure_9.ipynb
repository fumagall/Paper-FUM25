{
 "cells": [
  {
   "cell_type": "code",
   "execution_count": null,
   "metadata": {},
   "outputs": [],
   "source": [
    "import numpy as np\n",
    "import matplotlib.pyplot as plt\n",
    "from itertools import combinations\n"
   ]
  },
  {
   "cell_type": "markdown",
   "metadata": {},
   "source": [
    "# AM MCMC\n",
    "dt = 0.1\n",
    "## Original Heikki dt = 0.1"
   ]
  },
  {
   "cell_type": "code",
   "execution_count": null,
   "metadata": {},
   "outputs": [],
   "source": [
    "\n",
    "xlims = [[9.18, 10.8], [27.53, 28.48], [2.54, 2.78]]\n",
    "xlims = [[7.88, 12.9], [26.43, 29], [2.44, 2.98]]\n",
    "\n",
    "opt = (10, 28, 8/3)\n",
    "sigs = [0.1, 0.01, 0.001]\n",
    "names = (r\"$\\theta_x$\", r\"$\\theta_y$\", r\"$\\theta_z$\")\n",
    "fontsize=12\n",
    "for sig in sigs:\n",
    "    ts = np.load(f\"results/mcmc/heikki_short_{sig:.4f}.npz\")[\"samples\"].reshape(-1, 3)\n",
    "    fig, axs = plt.subplots(1, 3, figsize=(10,3), constrained_layout=True, dpi=300)\n",
    "    #print(\"Sigma\", sig, \"Covariance: \\n\", np.cov(ts.T), \"\\n mean \\n\", np.mean(ts, axis=0))\n",
    "    for ax, (x, y) in zip(axs.flatten(), combinations(range(3), 2)):\n",
    "        #ax.set_title(\"Sigma$_0 = {} \\cdot \\mathbb{{1}}_3$\".format(sig))\n",
    "        im = ax.hist2d(ts[:, x], ts[:, y], bins=25, range=(xlims[x], xlims[y]), rasterized=True, cmap=\"Grays\")\n",
    "        ax.set_xlabel(names[x], fontsize=fontsize)\n",
    "        ax.set_ylabel(names[y], fontsize=fontsize)\n",
    "        ax.scatter(opt[x], opt[y], marker=\"x\", color='#fc03f8')\n",
    "        print(sig, \": \", im[3].get_array().max())\n",
    "        \n",
    "    cbar = fig.colorbar(im[3], ax=axs, label=\"Similarity\")\n",
    "    #cbar.ax.set_visible(False)  # Hide colorbar but keep space\n",
    "    # Define custom colorbar ticks\n",
    "    tick_positions = [0, im[3].norm.vmax]  # Positions\n",
    "    tick_labels = [\"0\", \"max\"]  # Replace max\n",
    "\n",
    "    # Apply custom ticks and labels\n",
    "    cbar.set_ticks(tick_positions)\n",
    "    cbar.set_ticklabels(tick_labels, fontsize=fontsize)\n",
    "    cbar.set_label(\"Similarity\", fontsize=fontsize, labelpad=-15)\n",
    "\n",
    "    print()\n",
    "    if sig == 0.01:\n",
    "        plt.savefig(\"pictures/mcmc_dt_1_sig_01.pdf\")\n",
    "    plt.show()\n"
   ]
  },
  {
   "cell_type": "markdown",
   "metadata": {},
   "source": [
    "## Improved Heikki dt = 0.1"
   ]
  },
  {
   "cell_type": "code",
   "execution_count": null,
   "metadata": {},
   "outputs": [],
   "source": [
    "xlims = [[9.18, 10.8], [27.53, 28.48], [2.54, 2.78]]\n",
    "xlims = [[7.88, 12.9], [26.43, 29], [2.44, 2.98]]\n",
    "xlims = [[6.58, 14.9], [25.33, 30.5], [2.24, 3.18]]\n",
    "\n",
    "sigs = [0.1, 0.01, 0.001]\n",
    "names = (r\"$\\theta_x$\", r\"$\\theta_y$\", r\"$\\theta_z$\")\n",
    "fontsize=12\n",
    "for sig in sigs:\n",
    "    ts = np.load(f\"results/mcmc/heikki_long_{sig:.4f}.npz\")[\"samples\"].reshape(-1, 3)\n",
    "    fig, axs = plt.subplots(1, 3, figsize=(10,3), constrained_layout=True, dpi=300)\n",
    "    #print(\"Sigma\", sig, \"Covariance: \\n\", np.cov(ts.T), \"\\n mean \\n\", np.mean(ts, axis=0))\n",
    "    for ax, (x, y) in zip(axs.flatten(), combinations(range(3), 2)):\n",
    "        #ax.set_title(\"Sigma$_0 = {} \\cdot \\mathbb{{1}}_3$\".format(sig))\n",
    "        im = ax.hist2d(ts[:, x], ts[:, y], bins=50, range=(xlims[x], xlims[y]), rasterized=True, cmap=\"Grays\")\n",
    "        ax.set_xlabel(names[x], fontsize=fontsize)\n",
    "        ax.set_ylabel(names[y], fontsize=fontsize)\n",
    "        ax.scatter(opt[x], opt[y], marker=\"x\", color='#fc03f8')\n",
    "        print(sig, \": \", im[3].get_array().max())\n",
    "        \n",
    "    cbar = fig.colorbar(im[3], ax=axs, label=\"Similarity\")\n",
    "    #cbar.ax.set_visible(False)  # Hide colorbar but keep space\n",
    "    # Define custom colorbar ticks\n",
    "    tick_positions = [0, im[3].norm.vmax]  # Positions\n",
    "    tick_labels = [\"0\", \"max\"]  # Replace max\n",
    "\n",
    "    # Apply custom ticks and labels\n",
    "    cbar.set_ticks(tick_positions)\n",
    "    cbar.set_ticklabels(tick_labels, fontsize=fontsize)\n",
    "    cbar.set_label(\"Similarity\", fontsize=fontsize, labelpad=-15)\n",
    "\n",
    "    if sig == 0.01:\n",
    "        plt.savefig(\"pictures/mcmc_dt_1_imporved_sig_01.pdf\")\n",
    "\n",
    "    print()\n",
    "    plt.show()\n",
    "\n"
   ]
  },
  {
   "cell_type": "markdown",
   "metadata": {},
   "source": [
    "# AM MCMC original dt=0.02"
   ]
  },
  {
   "cell_type": "code",
   "execution_count": null,
   "metadata": {},
   "outputs": [],
   "source": [
    "xlims = [[9.18, 10.8], [27.53, 28.48], [2.54, 2.78]]\n",
    "xlims = [[6.58, 14.9], [25.33, 30.5], [2.24, 3.18]]\n",
    "\n",
    "sigs = [0.1, 0.01, 0.001]\n",
    "names = (r\"$\\theta_x$\", r\"$\\theta_y$\", r\"$\\theta_z$\")\n",
    "fontsize=12\n",
    "for sig in sigs:\n",
    "    ts = np.load(f\"results/mcmc/heikki_short_dt_02_{sig:.4f}.npz\")[\"samples\"].reshape(-1, 3)\n",
    "    fig, axs = plt.subplots(1, 3, figsize=(10,3), constrained_layout=True, dpi=300)\n",
    "    #print(\"Sigma\", sig, \"Covariance: \\n\", np.cov(ts.T), \"\\n mean \\n\", np.mean(ts, axis=0))\n",
    "    for ax, (x, y) in zip(axs.flatten(), combinations(range(3), 2)):\n",
    "        #ax.set_title(\"Sigma$_0 = {} \\cdot \\mathbb{{1}}_3$\".format(sig))\n",
    "        im = ax.hist2d(ts[:, x], ts[:, y], bins=25, range=(xlims[x], xlims[y]), rasterized=True, cmap=\"Grays\")\n",
    "        ax.set_xlabel(names[x], fontsize=fontsize)\n",
    "        ax.set_ylabel(names[y], fontsize=fontsize)\n",
    "        ax.scatter(opt[x], opt[y], marker=\"x\", color='#fc03f8')\n",
    "        print(sig, \": \", im[3].get_array().max())\n",
    "        \n",
    "    cbar = fig.colorbar(im[3], ax=axs, label=\"Similarity\")\n",
    "    #cbar.ax.set_visible(False)  # Hide colorbar but keep space\n",
    "    # Define custom colorbar ticks\n",
    "    tick_positions = [0, im[3].norm.vmax]  # Positions\n",
    "    tick_labels = [\"0\", \"max\"]  # Replace max\n",
    "\n",
    "    # Apply custom ticks and labels\n",
    "    cbar.set_ticks(tick_positions)\n",
    "    cbar.set_ticklabels(tick_labels, fontsize=fontsize)\n",
    "    cbar.set_label(\"Similarity\", fontsize=fontsize, labelpad=-15)\n",
    "\n",
    "    if sig == 0.01:\n",
    "        plt.savefig(\"pictures/mcmc_dt_02_sig_01.pdf\")\n",
    "\n",
    "    plt.show()\n"
   ]
  },
  {
   "cell_type": "markdown",
   "metadata": {},
   "source": [
    "## MCMC Improved dt = 0.02"
   ]
  },
  {
   "cell_type": "code",
   "execution_count": null,
   "metadata": {},
   "outputs": [],
   "source": [
    "sigs = [0.1, 0.01, 0.001]\n",
    "names = (r\"$\\theta_x$\", r\"$\\theta_y$\", r\"$\\theta_z$\")\n",
    "fontsize=12\n",
    "for sig in sigs:\n",
    "    ts = np.load(f\"results/mcmc/heikki_long_dt_02_{sig:.4f}.npz\")[\"samples\"].reshape(-1, 3)\n",
    "    fig, axs = plt.subplots(1, 3, figsize=(10,3), constrained_layout=True, dpi=300)\n",
    "    #print(\"Sigma\", sig, \"Covariance: \\n\", np.cov(ts.T), \"\\n mean \\n\", np.mean(ts, axis=0))\n",
    "    for ax, (x, y) in zip(axs.flatten(), combinations(range(3), 2)):\n",
    "        #ax.set_title(\"Sigma$_0 = {} \\cdot \\mathbb{{1}}_3$\".format(sig))\n",
    "        im = ax.hist2d(ts[:, x], ts[:, y], bins=35, range=(xlims[x], xlims[y]), rasterized=True, cmap=\"Grays\")\n",
    "        ax.set_xlabel(names[x], fontsize=fontsize)\n",
    "        ax.set_ylabel(names[y], fontsize=fontsize)\n",
    "        ax.scatter(opt[x], opt[y], marker=\"x\", color='#fc03f8')\n",
    "        print(sig, \": \", im[3].get_array().max())\n",
    "        \n",
    "    cbar = fig.colorbar(im[3], ax=axs, label=\"Similarity\")\n",
    "    #cbar.ax.set_visible(False)  # Hide colorbar but keep space\n",
    "    # Define custom colorbar ticks\n",
    "    tick_positions = [0, im[3].norm.vmax]  # Positions\n",
    "    tick_labels = [\"0\", \"max\"]  # Replace max\n",
    "\n",
    "    # Apply custom ticks and labels\n",
    "    cbar.set_ticks(tick_positions)\n",
    "    cbar.set_ticklabels(tick_labels, fontsize=fontsize)\n",
    "    cbar.set_label(\"Similarity\", fontsize=fontsize, labelpad=-15)\n",
    "\n",
    "    if sig == 0.01:\n",
    "        plt.savefig(\"pictures/mcmc_dt_02_improved_sig_01.pdf\")\n",
    "    plt.show()\n",
    "\n"
   ]
  },
  {
   "cell_type": "markdown",
   "metadata": {},
   "source": []
  }
 ],
 "metadata": {
  "kernelspec": {
   "display_name": "base",
   "language": "python",
   "name": "python3"
  },
  "language_info": {
   "codemirror_mode": {
    "name": "ipython",
    "version": 3
   },
   "file_extension": ".py",
   "mimetype": "text/x-python",
   "name": "python",
   "nbconvert_exporter": "python",
   "pygments_lexer": "ipython3",
   "version": "3.12.9"
  }
 },
 "nbformat": 4,
 "nbformat_minor": 2
}
