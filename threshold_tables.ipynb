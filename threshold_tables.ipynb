{
 "cells": [
  {
   "cell_type": "code",
   "execution_count": null,
   "metadata": {},
   "outputs": [],
   "source": [
    "import argparse\n",
    "from lib.correlation_integral import LongSpatial02CI, LongSpatialCI\n",
    "from lib.total_variation import TotalVariation\n",
    "from models.lib.firstorderode.base import RungeKutta\n",
    "from models.lib.firstorderode.lorenz import Lorenz63\n",
    "from models.lib.firstorderode.roessler import Roessler76\n",
    "from models.lib.firstorderode.sprott import SprottAttractors\n",
    "from models.lib.toy_models import JAU24a, LinaJL\n",
    "\n"
   ]
  },
  {
   "cell_type": "code",
   "execution_count": null,
   "metadata": {},
   "outputs": [],
   "source": [
    "from matplotlib import colors\n",
    "import matplotlib.pyplot as plt\n",
    "import numpy as np\n",
    "\n",
    "\n",
    "cdict = {'red':   ((0.0, 0.0, 0.0),\n",
    "                   (0.5, 1.0, 1.0),\n",
    "                   (1.0, 1.0, 1.0)),\n",
    "\n",
    "         'green': ((0.0, 116./255., 116./255.),\n",
    "                   (0.5, 1., 1.),\n",
    "                   (1.0, 121./255., 121./255.)),\n",
    "\n",
    "         'blue':  ((0.0, 122./255., 122./255.),\n",
    "                   (0.5, 1., 1.0),\n",
    "                   (1.0, 0.0, 0.0))\n",
    "        }\n",
    "       \n",
    "\n",
    "TUI = colors.LinearSegmentedColormap('TUI', cdict)\n",
    "norm = colors.Normalize(vmin=0, vmax=1) \n",
    "\n",
    "color_hist = TUI(norm(1))#\"#ff885a\"\n",
    "color_chi = \"black\"\n",
    "color_threshold=\"black\"\n",
    "color_region = \"grey\"\n",
    "color_res = TUI(norm(0))"
   ]
  },
  {
   "cell_type": "code",
   "execution_count": null,
   "metadata": {},
   "outputs": [],
   "source": [
    "from matplotlib.gridspec import GridSpec\n",
    "from mpl_toolkits.mplot3d import proj3d\n",
    "from tabulate import tabulate\n",
    "\n",
    "for dt_02 in (True, False):\n",
    "    threshold_total = np.zeros((5, 4))\n",
    "    for i_model, name in zip(range(5), [\"Sprott B\", \"Sprott C\", \"Sprott D\", \"Lorenz63\", \"Roessler76\"]):\n",
    "        from scipy.stats import chi2\n",
    "\n",
    "        data = np.load(f\"results/reference_values_ranges{\"_02\" if dt_02 else \"\"}.npy\")\n",
    "        data = data[:, i_model]\n",
    "        thresholds = np.quantile(data, 0.95, axis=0)\n",
    "        thresholds[0] = 1-thresholds[0]\n",
    "        #thresholds[-1] = np.log(chi2(10).ppf(0.95))\n",
    "        thresholds[-1] = (thresholds[-1])\n",
    "        threshold_total[i_model, :] = thresholds\n",
    "\n",
    "    print(tabulate([[n, *t] for n, t in zip([\"Sprott B\", \"Sprott C\", \"Sprott D\", \"Lorenz63\", \"Roessler76\"], threshold_total)], headers = [\"AExc\", \"ADev\", \"TVar\", \"GCI\"], tablefmt=(\"latex\")))\n",
    "    \n"
   ]
  },
  {
   "cell_type": "code",
   "execution_count": null,
   "metadata": {},
   "outputs": [],
   "source": [
    "thresholds.shape"
   ]
  },
  {
   "cell_type": "code",
   "execution_count": null,
   "metadata": {},
   "outputs": [],
   "source": []
  }
 ],
 "metadata": {
  "kernelspec": {
   "display_name": "base",
   "language": "python",
   "name": "python3"
  },
  "language_info": {
   "codemirror_mode": {
    "name": "ipython",
    "version": 3
   },
   "file_extension": ".py",
   "mimetype": "text/x-python",
   "name": "python",
   "nbconvert_exporter": "python",
   "pygments_lexer": "ipython3",
   "version": "3.12.9"
  }
 },
 "nbformat": 4,
 "nbformat_minor": 2
}
